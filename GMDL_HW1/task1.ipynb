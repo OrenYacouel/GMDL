{
 "cells": [
  {
   "attachments": {},
   "cell_type": "markdown",
   "metadata": {},
   "source": [
    "1.1 The Clique Functions in the Ising Model"
   ]
  },
  {
   "cell_type": "code",
   "execution_count": 1,
   "metadata": {},
   "outputs": [],
   "source": [
    "#Computer Exercise 1\n",
    "import numpy as np\n",
    "def G(row_s: np.ndarray, Temp: float):\n",
    "    return np.exp(np.sum(row_s[:-1] * row_s[1:]) / Temp)\n",
    " \n"
   ]
  },
  {
   "cell_type": "code",
   "execution_count": 2,
   "metadata": {},
   "outputs": [],
   "source": [
    "#Computer Exercise 2\n",
    "\n",
    "def F(row_s: np.ndarray, row_t: np.ndarray, Temp: float):\n",
    "    return np.exp(np.sum(row_s * row_t) / Temp)\n"
   ]
  },
  {
   "attachments": {},
   "cell_type": "markdown",
   "metadata": {},
   "source": [
    "1.2 Brute Force on Small Lattices\n",
    "Some of the computer exercises in this section require you to use an absurd\n",
    "number (from a programmer’s perspective) of nested loops. Thus, you can\n",
    "(but do not have to) exploit Python’s itertools module to make this a bit more\n",
    "elegant.\n",
    "compute ZTemp (for three different values of Temp where Temp ∈ {1, 1.5, 2})\n",
    "using brute force (use 4 nested For loops, one for each of the xs’s, the looping\n",
    "is done over the values that xs can take: {−1, 1}). To help you debug: For\n",
    "Temp = 1, your result should be ZTemp = 121.23 . . .."
   ]
  },
  {
   "cell_type": "code",
   "execution_count": 3,
   "metadata": {},
   "outputs": [
    {
     "name": "stdout",
     "output_type": "stream",
     "text": [
      "121.23293134406595\n",
      "40.922799092745386\n",
      "27.048782764334526\n"
     ]
    }
   ],
   "source": [
    "#Computer Exercise 3\n",
    "from itertools import product\n",
    "\n",
    "def compute_ZTemp1(Temp: float):\n",
    "    Z = 0\n",
    "    vals = [-1, 1]\n",
    "\n",
    "    for x11 in vals:\n",
    "        for x12 in vals:\n",
    "            for x21 in vals:\n",
    "                for x22 in vals:\n",
    "                    Z += np.exp((x11*x21+ x12*x22 + x11*x12 + x21*x22)/Temp)\n",
    "\n",
    "    return Z\n",
    "\n",
    "temp = [1,1.5,2]\n",
    "for i in temp:\n",
    "    z = compute_ZTemp1(i)\n",
    "    print(z)\n",
    "    "
   ]
  },
  {
   "cell_type": "code",
   "execution_count": 4,
   "metadata": {},
   "outputs": [
    {
     "name": "stdout",
     "output_type": "stream",
     "text": [
      "365645.74913577037\n",
      "10565.421983514265\n",
      "2674.518123060087\n"
     ]
    }
   ],
   "source": [
    "#Computer Exercise 4\n",
    "\n",
    "import numpy as np\n",
    "\n",
    "import numpy as np\n",
    "\n",
    "def compute_ZTemp2(Temp: float):\n",
    "    Z = 0\n",
    "    vals = [-1, 1]\n",
    "\n",
    "    for x11 in vals:\n",
    "        for x12 in vals:\n",
    "            for x13 in vals:\n",
    "                for x21 in vals:\n",
    "                    for x22 in vals:\n",
    "                        for x23 in vals:\n",
    "                            for x31 in vals:\n",
    "                                for x32 in vals:\n",
    "                                    for x33 in vals:\n",
    "                                        energy = x11*x21 + x12*x22 + x13*x23 + x21*x31 + x22*x32 + x23*x33 + x11*x12 + x12*x13 + x21*x22 + x22*x23 + x31*x32 + x32*x33\n",
    "                                        Z += np.exp(energy/Temp)\n",
    "\n",
    "    return Z\n",
    "\n",
    "\n",
    "\n",
    "\n",
    "temp = [1,1.5,2]\n",
    "for i in temp:\n",
    "    z = compute_ZTemp2(i)\n",
    "    print(z)"
   ]
  },
  {
   "cell_type": "code",
   "execution_count": 5,
   "metadata": {},
   "outputs": [],
   "source": [
    "# computer exercise 5\n",
    "\n",
    "def y2row(y, width=2):\n",
    "    \"\"\"\n",
    "    y: an integer in (0,...,(2**width)-1)\n",
    "    \"\"\"\n",
    "    if not 0 <= y <= (2 ** width) - 1:\n",
    "        raise ValueError(y)\n",
    "    my_str=np.binary_repr(y,width=width)\n",
    "    # my_list = map(int,my_str) # Python 2\n",
    "    my_list = list(map(int,my_str)) # Python 3\n",
    "    my_array = np.asarray(my_list)\n",
    "    my_array[my_array==0]=-1\n",
    "    row = my_array\n",
    "    return row\n",
    "\n",
    "def compute_ZTemp3(Temp: float):\n",
    "    Z = 0\n",
    "    ys = [0,1,2,3]\n",
    "    rows = []\n",
    "    for y in ys:\n",
    "        rows.append(y2row(y, width=2))                       # convert to row vectors  \n",
    "\n",
    "    rows = np.asarray(rows)                                  # convert to numpy array\n",
    "    \n",
    "    for y1 in rows:\n",
    "        for y2 in rows:\n",
    "            Z += G(y1, Temp) * G(y2, Temp) * F(y1, y2, Temp) # required logic\n",
    "            \n",
    "    return Z"
   ]
  },
  {
   "cell_type": "code",
   "execution_count": 6,
   "metadata": {},
   "outputs": [
    {
     "name": "stdout",
     "output_type": "stream",
     "text": [
      "121.23293134406595\n",
      "40.922799092745386\n",
      "27.048782764334526\n"
     ]
    }
   ],
   "source": [
    "temp = [1,1.5,2]\n",
    "for i in temp:\n",
    "    z = compute_ZTemp3(i)\n",
    "    print(z)"
   ]
  },
  {
   "cell_type": "code",
   "execution_count": 7,
   "metadata": {},
   "outputs": [],
   "source": [
    "# computer exercise 6\n",
    "def compute_ZTemp4(Temp: float):\n",
    "    Z = 0\n",
    "    ys = [0,1,2,3,4,5,6,7]\n",
    "    rows = []\n",
    "    for y in ys:\n",
    "        rows.append(y2row(y, width=3))                       # convert to row vectors  \n",
    "\n",
    "    rows = np.asarray(rows)                                  # convert to numpy array\n",
    "    \n",
    "    for y1 in rows:\n",
    "        for y2 in rows:\n",
    "            for y3 in rows:\n",
    "                Z += G(y1, Temp) * G(y2, Temp) * G(y3, Temp) * F(y1, y2, Temp) * F(y2, y3, Temp)\n",
    "    return Z "
   ]
  },
  {
   "cell_type": "code",
   "execution_count": 8,
   "metadata": {},
   "outputs": [
    {
     "name": "stdout",
     "output_type": "stream",
     "text": [
      "365645.7491357704\n",
      "10565.421983514265\n",
      "2674.518123060087\n"
     ]
    }
   ],
   "source": [
    "temp = [1,1.5,2]\n",
    "for i in temp:\n",
    "    z = compute_ZTemp4(i)\n",
    "    print(z)"
   ]
  },
  {
   "cell_type": "markdown",
   "metadata": {},
   "source": [
    "1.3 Dynamic Programming on an 8×8 Lattice"
   ]
  },
  {
   "cell_type": "code",
   "execution_count": 9,
   "metadata": {},
   "outputs": [],
   "source": [
    "#computer exercise 7\n",
    "\n",
    "import numpy as np\n",
    "\n",
    "\n",
    "def get_Gs(size: int, Temp: float):\n",
    "    \"\"\"\n",
    "    size: size of the lattice\n",
    "    Temp: temperature\n",
    "    \"\"\"\n",
    "    G_MAT = np.asarray([G(y2row(i, width=size), Temp) for i in range(2 ** size)])\n",
    "    return G_MAT\n",
    "\n",
    "def get_Fs(size: int, Temp: float):\n",
    "    \"\"\"\n",
    "    size: size of the lattice\n",
    "    Temp: temperature\n",
    "    \"\"\"\n",
    "    F_MAT = np.asarray([[F(y2row(i, width=size), y2row(j, width=size), Temp) for j in range(2 ** size)] for i in\n",
    "                            range(2 ** size)])\n",
    "    return F_MAT\n",
    "\n",
    "\n",
    "def get_Ts(size,temp): #forward pass\n",
    "    T = np.zeros((size - 1, 2 ** size))\n",
    "    G_MAT = get_Gs(size, temp)\n",
    "    F_MAT = get_Fs(size, temp)\n",
    "\n",
    "    for ti in range(size - 1):\n",
    "        for yi in range(2 ** size):\n",
    "            if ti == 0:\n",
    "                T[ti, yi] = np.sum([G_MAT[i] * F_MAT[i, yi] for i in range(2 ** size)]) # equation - (18)\n",
    "            else:\n",
    "                T[ti, yi] = np.sum(\n",
    "                    [T[ti - 1, i] * G_MAT[i] * F_MAT[i, yi] for i in range(2 ** size)]) # equation - (19)\n",
    "            \n",
    "    ZTemp = np.sum(T[-1, :] * G_MAT) # equation (20)\n",
    "        \n",
    "    return T, ZTemp\n",
    "\n",
    "\n",
    "            \n",
    "\n",
    "\n",
    "def get_Ps(size, temp): #reference solution\n",
    "    T,ztemp = get_Ts(size, temp)\n",
    "    G_MAT = get_Gs(size, temp)\n",
    "    F_MAT = get_Fs(size, temp)\n",
    "    P = []\n",
    "    for row in range(size - 1, -1, -1): #row in {0...7}\n",
    "        if row == size - 1: #(21) first row when starting from the last\n",
    "            P.insert(0, [(T[row - 1, yk] * G_MAT[yk]) / ztemp for yk in range(2 ** size)])\n",
    "        elif row == 0:      #(23) last row \n",
    "            P.insert(0, [[(G_MAT[y1] * F_MAT[y1, y2]) / T[row, y2] for y2 in range(2 ** size)] for y1 in range(2 ** size)])\n",
    "        else:               #(22) - general case for k in {1...6}\n",
    "            P.insert(0, [[(T[row - 1, yi] * G_MAT[yi] * F_MAT[yi, yj]) / T[row, yj] for yj in range(2 ** size)] for yi in\n",
    "                      range(2 ** size)])\n",
    "    return P\n",
    "\n",
    "def sample_ys(size, P): #backward sampling the whole lattice\n",
    "    Y = np.zeros(size)\n",
    "    for row in range(size - 1, -1, -1):\n",
    "        if row == size - 1:\n",
    "            Y[row] = int(np.random.choice(np.arange(2 ** size), p=P[row]))\n",
    "        else:\n",
    "            Y[row] = np.random.choice(range(2 ** size), p=np.asarray(P[row])[:, int(Y[row + 1])])\n",
    "    return Y\n",
    "   \n"
   ]
  },
  {
   "cell_type": "code",
   "execution_count": 10,
   "metadata": {},
   "outputs": [
    {
     "name": "stdout",
     "output_type": "stream",
     "text": [
      "T1= : [21.18917525  8.20463255  8.20463255 21.18917525]\n",
      "T2= Z: 121.23293134406596\n",
      "T1= : [155.37102759  46.44297052  31.70116107  46.44297052  46.44297052\n",
      "  31.70116107  46.44297052 155.37102759]\n",
      "T2= : [23416.16435187  4634.76802124  3916.10003703  4634.76802124\n",
      "  4634.76802124  3916.10003703  4634.76802124 23416.16435187]\n",
      "T3= Z: 365645.7491357699\n",
      "121.23293134406595\n",
      "365645.74913577037\n"
     ]
    }
   ],
   "source": [
    "#debbug the calculation using forward pass\n",
    "Ts, ZTemp = get_Ts(2, 1)\n",
    "print(\"T1= :\", Ts[0, :]) \n",
    "print(\"T2= Z:\", ZTemp)\n",
    "\n",
    "Ts, ZTemp = get_Ts(3, 1)\n",
    "print(\"T1= :\", Ts[0, :])\n",
    "print(\"T2= :\", Ts[1, :])\n",
    "print(\"T3= Z:\", ZTemp)\n",
    "\n",
    "\n",
    "#brute force results of ztemp\n",
    "\n",
    "print(compute_ZTemp1(1))\n",
    "print(compute_ZTemp2(1))\n",
    "\n"
   ]
  },
  {
   "cell_type": "code",
   "execution_count": 11,
   "metadata": {},
   "outputs": [
    {
     "name": "stdout",
     "output_type": "stream",
     "text": [
      "[1 1 1]\n"
     ]
    }
   ],
   "source": [
    "y = 7\n",
    "print(y2row(y, width=3))"
   ]
  },
  {
   "cell_type": "code",
   "execution_count": 12,
   "metadata": {},
   "outputs": [
    {
     "data": {
      "image/png": "[encoded data removed]",
      "text/plain": [
       "<Figure size 432x288 with 30 Axes>"
      ]
     },
     "metadata": {
      "needs_background": "light"
     },
     "output_type": "display_data"
    }
   ],
   "source": [
    "from matplotlib import pyplot as plt\n",
    "\n",
    "temps = [1, 1.5, 2]\n",
    "size = 8\n",
    "images_num = 10\n",
    "\n",
    "for row,temp in enumerate(temps):\n",
    "    P = get_Ps(size, temp)\n",
    "    for num in range(images_num):\n",
    "        Y = sample_ys(size, P).astype(int)\n",
    "        \n",
    "        image = []\n",
    "        # image is 1D array of size =size, need to convert back to 2D image using y2row\n",
    "        for i in range(size):\n",
    "            x = y2row(Y[i], width=size)\n",
    "            image.append(x)\n",
    "        image = np.asarray(image)\n",
    "        # print(image)\n",
    "\n",
    "        #plot all the images in one figure, all the same temps in one row, set border to image to be on, -1 as white and 1 as black\n",
    "        plt.subplot(len(temps), images_num, row * images_num + num + 1)\n",
    "        plt.imshow(image, cmap='gray', vmin=-1, vmax=1,interpolation='None')\n",
    "        plt.axis('off')\n",
    "        plt.title('Temp = {}'.format(temp), fontsize=8)\n",
    "\n",
    "\n",
    "\n",
    "plt.tight_layout()\n",
    "plt.show()\n",
    " "
   ]
  },
  {
   "attachments": {},
   "cell_type": "markdown",
   "metadata": {},
   "source": [
    "Computer Exercise 8 Using the three samplers you implemented above, at\n",
    "each of the three temperatures, draw 10,000 samples, x(1), . . . , x(10000) (each\n",
    "such sample is an 8 × 8 binary image) and compute two empirical expectations:\n",
    "EbTemp(X(1,1)X(2,2)) ,\n",
    "1\n",
    "10000\n",
    "10000\n",
    "X\n",
    "n=1\n",
    "x(1,1)(n)x(2,2)(n) (13)\n",
    "EbTemp(X(1,1)X(8,8)) ,\n",
    "1\n",
    "10000\n",
    "10000\n",
    "X\n",
    "n=1\n",
    "x(1,1)(n)x(8,8)(n) (14)\n",
    "\u0005\n",
    "where Temp = 1, 1.5, and 2 and where x(i,j)(n) is the value at the (i, j)-th\n",
    "lattice site of sample n. To help you debug here are the values you should get\n",
    "for Temp = 1: EbTemp(X(1,1)X(2,2)) ≈ 0.95; EbTemp(X(1,1)X(8,8)) ≈ 0.9."
   ]
  },
  {
   "cell_type": "code",
   "execution_count": 13,
   "metadata": {},
   "outputs": [
    {
     "name": "stderr",
     "output_type": "stream",
     "text": [
      "100%|██████████| 1000/1000 [00:49<00:00, 20.16it/s]\n"
     ]
    },
    {
     "name": "stdout",
     "output_type": "stream",
     "text": [
      "E12 =  0.95\n",
      "E18 =  0.904\n"
     ]
    },
    {
     "name": "stderr",
     "output_type": "stream",
     "text": [
      "100%|██████████| 1000/1000 [00:51<00:00, 19.47it/s]\n"
     ]
    },
    {
     "name": "stdout",
     "output_type": "stream",
     "text": [
      "E12 =  0.782\n",
      "E18 =  0.594\n"
     ]
    },
    {
     "name": "stderr",
     "output_type": "stream",
     "text": [
      "100%|██████████| 1000/1000 [00:47<00:00, 20.90it/s]"
     ]
    },
    {
     "name": "stdout",
     "output_type": "stream",
     "text": [
      "E12 =  0.51\n",
      "E18 =  0.074\n",
      "{1: [0.95, 0.904], 1.5: [0.782, 0.594], 2: [0.51, 0.074]}\n"
     ]
    },
    {
     "name": "stderr",
     "output_type": "stream",
     "text": [
      "\n"
     ]
    }
   ],
   "source": [
    "# computer exercise 8\n",
    "#need to run with 10000\n",
    "\n",
    "from tqdm import tqdm\n",
    "\n",
    "num_samples = 1000\n",
    "size = 8\n",
    "temps = [1, 1.5, 2]\n",
    "\n",
    "expectation_dict = {}\n",
    "\n",
    "for row,temp in enumerate(temps):\n",
    "    data = []\n",
    "    P = get_Ps(size, temp)\n",
    "    for num in tqdm(range(num_samples)):\n",
    "        Y = sample_ys(size, P).astype(int)\n",
    "        image = []\n",
    "        # image is 1D array of size =size, need to convert back to 2D image using y2row\n",
    "        for i in range(size):\n",
    "            x = y2row(Y[i], width=size)\n",
    "            image.append(x)\n",
    "        image = np.asarray(image).astype(np.int8)\n",
    "        # print(image)\n",
    "        data.append(image)\n",
    "\n",
    "    #calculate the expectation \n",
    "    E12 = np.sum([data[i][0,0]*data[i][1,1] for i in range(num_samples)]) / num_samples\n",
    "    E18 = np.sum([data[i][0,0]*data[i][7,7] for i in range(num_samples)]) / num_samples\n",
    "    print(\"E12 = \", E12)\n",
    "    print(\"E18 = \", E18)\n",
    "\n",
    "    expectation_dict[temp] = [E12, E18]\n",
    "\n",
    "\n",
    "print(expectation_dict)\n",
    "\n",
    "        \n",
    "    \n",
    "    "
   ]
  }
 ],
 "metadata": {
  "kernelspec": {
   "display_name": "base",
   "language": "python",
   "name": "python3"
  },
  "language_info": {
   "codemirror_mode": {
    "name": "ipython",
    "version": 3
   },
   "file_extension": ".py",
   "mimetype": "text/x-python",
   "name": "python",
   "nbconvert_exporter": "python",
   "pygments_lexer": "ipython3",
   "version": "3.8.3"
  },
  "orig_nbformat": 4
 },
 "nbformat": 4,
 "nbformat_minor": 2
}
